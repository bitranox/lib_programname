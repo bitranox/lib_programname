{
 "metadata": {
  "language_info": {
   "name": "python",
   "version": "3.7.6",
   "mimetype": "text/x-python",
   "codemirror_mode": {
    "name": "ipython",
    "version": 3
   },
   "pygments_lexer": "ipython3",
   "nbconvert_exporter": "python",
   "file_extension": ".py"
  },
  "kernelspec": {
   "name": "python3",
   "display_name": "Python 3",
   "language": "python"
  }
 },
 "nbformat_minor": 4,
 "nbformat": 4,
 "cells": [
  {
   "cell_type": "code",
   "source": [
    "# update pip and setuptools\n",
    "import sys\n",
    "!{sys.executable} -m pip install --upgrade pip\n",
    "!{sys.executable} -m pip install --upgrade setuptools"
   ],
   "metadata": {
    "trusted": true
   },
   "execution_count": 2,
   "outputs": [
    {
     "name": "stdout",
     "text": "/bin/sh: 1: sys.executable: not found\n/bin/sh: 1: sys.executable: not found\n",
     "output_type": "stream"
    }
   ]
  },
  {
   "cell_type": "code",
   "source": [
    "# install lib_programnme\n",
    "!{sys.executable} -m pip install lib_programname"
   ],
   "metadata": {
    "trusted": true
   },
   "execution_count": 4,
   "outputs": [
    {
     "name": "stdout",
     "text": "Collecting lib_platform\n  Downloading lib_platform-1.0.3-py3-none-any.whl (5.9 kB)\nCollecting pytest\n  Downloading pytest-5.4.3-py3-none-any.whl (248 kB)\n\u001B[K     |████████████████████████████████| 248 kB 3.0 MB/s eta 0:00:01\n\u001B[?25hCollecting typing\n  Downloading typing-3.7.4.1-py3-none-any.whl (25 kB)\nCollecting lib-registry\n  Downloading lib_registry-1.0.2.tar.gz (6.3 kB)\nRequirement already satisfied: attrs>=17.4.0 in /srv/conda/envs/notebook/lib/python3.7/site-packages (from pytest->lib_platform) (19.3.0)\nRequirement already satisfied: wcwidth in /srv/conda/envs/notebook/lib/python3.7/site-packages (from pytest->lib_platform) (0.2.3)\nCollecting py>=1.5.0\n  Downloading py-1.9.0-py2.py3-none-any.whl (99 kB)\n\u001B[K     |████████████████████████████████| 99 kB 6.4 MB/s  eta 0:00:01\n\u001B[?25hRequirement already satisfied: importlib-metadata>=0.12; python_version < \"3.8\" in /srv/conda/envs/notebook/lib/python3.7/site-packages (from pytest->lib_platform) (1.6.0)\nCollecting more-itertools>=4.0.0\n  Downloading more_itertools-8.4.0-py3-none-any.whl (43 kB)\n\u001B[K     |████████████████████████████████| 43 kB 1.8 MB/s eta 0:00:011\n\u001B[?25hCollecting pluggy<1.0,>=0.12\n  Downloading pluggy-0.13.1-py2.py3-none-any.whl (18 kB)\nRequirement already satisfied: packaging in /srv/conda/envs/notebook/lib/python3.7/site-packages (from pytest->lib_platform) (20.4)\nRequirement already satisfied: zipp>=0.5 in /srv/conda/envs/notebook/lib/python3.7/site-packages (from importlib-metadata>=0.12; python_version < \"3.8\"->pytest->lib_platform) (3.1.0)\nRequirement already satisfied: pyparsing>=2.0.2 in /srv/conda/envs/notebook/lib/python3.7/site-packages (from packaging->pytest->lib_platform) (2.4.7)\nRequirement already satisfied: six in /srv/conda/envs/notebook/lib/python3.7/site-packages (from packaging->pytest->lib_platform) (1.15.0)\nBuilding wheels for collected packages: lib-registry\n  Building wheel for lib-registry (setup.py) ... \u001B[?25ldone\n\u001B[?25h  Created wheel for lib-registry: filename=lib_registry-1.0.2-py3-none-any.whl size=6278 sha256=4c742611375c7f057a81255ce8493e2cf100e1fde52a87cd99b05c7f22ec5201\n  Stored in directory: /home/jovyan/.cache/pip/wheels/53/4d/2a/14531ab44c6f8dab7c55f1108a14d28b4c7e4a4a8024aabfd8\nSuccessfully built lib-registry\nInstalling collected packages: py, more-itertools, pluggy, pytest, typing, lib-registry, lib-platform\nSuccessfully installed lib-platform-1.0.3 lib-registry-1.0.2 more-itertools-8.4.0 pluggy-0.13.1 py-1.9.0 pytest-5.4.3 typing-3.7.4.1\n",
     "output_type": "stream"
    }
   ]
  },
  {
   "cell_type": "code",
   "source": [
    "import lib_programname"
   ],
   "metadata": {
    "trusted": true
   },
   "execution_count": 11,
   "outputs": []
  },
  {
   "cell_type": "code",
   "source": [
    "lib_programname.get_path_executed_script()"
   ],
   "metadata": {
    "trusted": true,
    "pycharm": {
     "name": "#%%\n"
    }
   },
   "execution_count": 12,
   "outputs": [
    {
     "execution_count": 12,
     "output_type": "execute_result",
     "data": {
      "text/plain": "'linux'"
     },
     "metadata": {}
    }
   ]
  }
 ]
}